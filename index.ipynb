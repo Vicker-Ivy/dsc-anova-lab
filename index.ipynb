{
 "cells": [
  {
   "cell_type": "markdown",
   "metadata": {},
   "source": [
    "# ANOVA  - Lab\n",
    "\n",
    "## Introduction\n",
    "\n",
    "In this lab, you'll get some brief practice generating an ANOVA table (AOV) and interpreting its output. You'll also perform some investigations to compare the method to the t-tests you previously employed to conduct hypothesis testing.\n",
    "\n",
    "## Objectives\n",
    "\n",
    "In this lab you will: \n",
    "\n",
    "- Use ANOVA for testing multiple pairwise comparisons \n",
    "- Interpret results of an ANOVA and compare them to a t-test"
   ]
  },
  {
   "cell_type": "markdown",
   "metadata": {},
   "source": [
    "## Load the data\n",
    "\n",
    "Start by loading in the data stored in the file `'ToothGrowth.csv'`: "
   ]
  },
  {
   "cell_type": "code",
   "execution_count": 1,
   "metadata": {},
   "outputs": [
    {
     "data": {
      "text/html": [
       "<div>\n",
       "<style scoped>\n",
       "    .dataframe tbody tr th:only-of-type {\n",
       "        vertical-align: middle;\n",
       "    }\n",
       "\n",
       "    .dataframe tbody tr th {\n",
       "        vertical-align: top;\n",
       "    }\n",
       "\n",
       "    .dataframe thead th {\n",
       "        text-align: right;\n",
       "    }\n",
       "</style>\n",
       "<table border=\"1\" class=\"dataframe\">\n",
       "  <thead>\n",
       "    <tr style=\"text-align: right;\">\n",
       "      <th></th>\n",
       "      <th>len</th>\n",
       "      <th>supp</th>\n",
       "      <th>dose</th>\n",
       "    </tr>\n",
       "  </thead>\n",
       "  <tbody>\n",
       "    <tr>\n",
       "      <th>0</th>\n",
       "      <td>4.2</td>\n",
       "      <td>VC</td>\n",
       "      <td>0.5</td>\n",
       "    </tr>\n",
       "    <tr>\n",
       "      <th>1</th>\n",
       "      <td>11.5</td>\n",
       "      <td>VC</td>\n",
       "      <td>0.5</td>\n",
       "    </tr>\n",
       "    <tr>\n",
       "      <th>2</th>\n",
       "      <td>7.3</td>\n",
       "      <td>VC</td>\n",
       "      <td>0.5</td>\n",
       "    </tr>\n",
       "    <tr>\n",
       "      <th>3</th>\n",
       "      <td>5.8</td>\n",
       "      <td>VC</td>\n",
       "      <td>0.5</td>\n",
       "    </tr>\n",
       "    <tr>\n",
       "      <th>4</th>\n",
       "      <td>6.4</td>\n",
       "      <td>VC</td>\n",
       "      <td>0.5</td>\n",
       "    </tr>\n",
       "  </tbody>\n",
       "</table>\n",
       "</div>"
      ],
      "text/plain": [
       "    len supp  dose\n",
       "0   4.2   VC   0.5\n",
       "1  11.5   VC   0.5\n",
       "2   7.3   VC   0.5\n",
       "3   5.8   VC   0.5\n",
       "4   6.4   VC   0.5"
      ]
     },
     "execution_count": 1,
     "metadata": {},
     "output_type": "execute_result"
    }
   ],
   "source": [
    "# Your code here\n",
    "import pandas as pd\n",
    "df = pd.read_csv('ToothGrowth.csv')\n",
    "df.head()"
   ]
  },
  {
   "cell_type": "markdown",
   "metadata": {},
   "source": [
    "## Generate the ANOVA table\n",
    "\n",
    "Now generate an ANOVA table in order to analyze the influence of the medication and dosage:  "
   ]
  },
  {
   "cell_type": "code",
   "execution_count": 3,
   "metadata": {},
   "outputs": [
    {
     "name": "stdout",
     "output_type": "stream",
     "text": [
      "Collecting statsmodels\n",
      "  Downloading statsmodels-0.14.5-cp310-cp310-win_amd64.whl.metadata (9.8 kB)\n",
      "Requirement already satisfied: numpy<3,>=1.22.3 in c:\\users\\halla\\anaconda3\\envs\\learn-env\\lib\\site-packages (from statsmodels) (2.2.6)\n",
      "Requirement already satisfied: scipy!=1.9.2,>=1.8 in c:\\users\\halla\\anaconda3\\envs\\learn-env\\lib\\site-packages (from statsmodels) (1.15.3)\n",
      "Requirement already satisfied: pandas!=2.1.0,>=1.4 in c:\\users\\halla\\anaconda3\\envs\\learn-env\\lib\\site-packages (from statsmodels) (2.3.0)\n",
      "Collecting patsy>=0.5.6 (from statsmodels)\n",
      "  Downloading patsy-1.0.1-py2.py3-none-any.whl.metadata (3.3 kB)\n",
      "Requirement already satisfied: packaging>=21.3 in c:\\users\\halla\\anaconda3\\envs\\learn-env\\lib\\site-packages (from statsmodels) (24.2)\n",
      "Requirement already satisfied: python-dateutil>=2.8.2 in c:\\users\\halla\\anaconda3\\envs\\learn-env\\lib\\site-packages (from pandas!=2.1.0,>=1.4->statsmodels) (2.9.0.post0)\n",
      "Requirement already satisfied: pytz>=2020.1 in c:\\users\\halla\\anaconda3\\envs\\learn-env\\lib\\site-packages (from pandas!=2.1.0,>=1.4->statsmodels) (2025.2)\n",
      "Requirement already satisfied: tzdata>=2022.7 in c:\\users\\halla\\anaconda3\\envs\\learn-env\\lib\\site-packages (from pandas!=2.1.0,>=1.4->statsmodels) (2025.2)\n",
      "Requirement already satisfied: six>=1.5 in c:\\users\\halla\\anaconda3\\envs\\learn-env\\lib\\site-packages (from python-dateutil>=2.8.2->pandas!=2.1.0,>=1.4->statsmodels) (1.17.0)\n",
      "Downloading statsmodels-0.14.5-cp310-cp310-win_amd64.whl (9.6 MB)\n",
      "   ---------------------------------------- 0.0/9.6 MB ? eta -:--:--\n",
      "   ---------------------------------------- 0.0/9.6 MB ? eta -:--:--\n",
      "   ---------------------------------------- 0.0/9.6 MB ? eta -:--:--\n",
      "   ---------------------------------------- 0.0/9.6 MB ? eta -:--:--\n",
      "   ---------------------------------------- 0.0/9.6 MB ? eta -:--:--\n",
      "   ---------------------------------------- 0.0/9.6 MB ? eta -:--:--\n",
      "   ---------------------------------------- 0.0/9.6 MB ? eta -:--:--\n",
      "   ---------------------------------------- 0.0/9.6 MB ? eta -:--:--\n",
      "   ---------------------------------------- 0.0/9.6 MB ? eta -:--:--\n",
      "   ---------------------------------------- 0.0/9.6 MB ? eta -:--:--\n",
      "   - -------------------------------------- 0.3/9.6 MB ? eta -:--:--\n",
      "   - -------------------------------------- 0.3/9.6 MB ? eta -:--:--\n",
      "   - -------------------------------------- 0.3/9.6 MB ? eta -:--:--\n",
      "   -- ------------------------------------- 0.5/9.6 MB 349.5 kB/s eta 0:00:27\n",
      "   -- ------------------------------------- 0.5/9.6 MB 349.5 kB/s eta 0:00:27\n",
      "   -- ------------------------------------- 0.5/9.6 MB 349.5 kB/s eta 0:00:27\n",
      "   --- ------------------------------------ 0.8/9.6 MB 409.3 kB/s eta 0:00:22\n",
      "   --- ------------------------------------ 0.8/9.6 MB 409.3 kB/s eta 0:00:22\n",
      "   --- ------------------------------------ 0.8/9.6 MB 409.3 kB/s eta 0:00:22\n",
      "   --- ------------------------------------ 0.8/9.6 MB 409.3 kB/s eta 0:00:22\n",
      "   ---- ----------------------------------- 1.0/9.6 MB 364.8 kB/s eta 0:00:24\n",
      "   ---- ----------------------------------- 1.0/9.6 MB 364.8 kB/s eta 0:00:24\n",
      "   ---- ----------------------------------- 1.0/9.6 MB 364.8 kB/s eta 0:00:24\n",
      "   ---- ----------------------------------- 1.0/9.6 MB 364.8 kB/s eta 0:00:24\n",
      "   ----- ---------------------------------- 1.3/9.6 MB 349.5 kB/s eta 0:00:24\n",
      "   ----- ---------------------------------- 1.3/9.6 MB 349.5 kB/s eta 0:00:24\n",
      "   ----- ---------------------------------- 1.3/9.6 MB 349.5 kB/s eta 0:00:24\n",
      "   ------ --------------------------------- 1.6/9.6 MB 354.0 kB/s eta 0:00:23\n",
      "   ------ --------------------------------- 1.6/9.6 MB 354.0 kB/s eta 0:00:23\n",
      "   ------- -------------------------------- 1.8/9.6 MB 385.7 kB/s eta 0:00:21\n",
      "   ------- -------------------------------- 1.8/9.6 MB 385.7 kB/s eta 0:00:21\n",
      "   ------- -------------------------------- 1.8/9.6 MB 385.7 kB/s eta 0:00:21\n",
      "   ------- -------------------------------- 1.8/9.6 MB 385.7 kB/s eta 0:00:21\n",
      "   -------- ------------------------------- 2.1/9.6 MB 370.5 kB/s eta 0:00:21\n",
      "   -------- ------------------------------- 2.1/9.6 MB 370.5 kB/s eta 0:00:21\n",
      "   -------- ------------------------------- 2.1/9.6 MB 370.5 kB/s eta 0:00:21\n",
      "   -------- ------------------------------- 2.1/9.6 MB 370.5 kB/s eta 0:00:21\n",
      "   --------- ------------------------------ 2.4/9.6 MB 363.7 kB/s eta 0:00:21\n",
      "   ---------- ----------------------------- 2.6/9.6 MB 393.2 kB/s eta 0:00:18\n",
      "   ---------- ----------------------------- 2.6/9.6 MB 393.2 kB/s eta 0:00:18\n",
      "   ---------- ----------------------------- 2.6/9.6 MB 393.2 kB/s eta 0:00:18\n",
      "   ---------- ----------------------------- 2.6/9.6 MB 393.2 kB/s eta 0:00:18\n",
      "   ----------- ---------------------------- 2.9/9.6 MB 382.1 kB/s eta 0:00:18\n",
      "   ----------- ---------------------------- 2.9/9.6 MB 382.1 kB/s eta 0:00:18\n",
      "   ----------- ---------------------------- 2.9/9.6 MB 382.1 kB/s eta 0:00:18\n",
      "   ------------- -------------------------- 3.1/9.6 MB 387.7 kB/s eta 0:00:17\n",
      "   ------------- -------------------------- 3.1/9.6 MB 387.7 kB/s eta 0:00:17\n",
      "   -------------- ------------------------- 3.4/9.6 MB 396.3 kB/s eta 0:00:16\n",
      "   --------------- ------------------------ 3.7/9.6 MB 415.4 kB/s eta 0:00:15\n",
      "   --------------- ------------------------ 3.7/9.6 MB 415.4 kB/s eta 0:00:15\n",
      "   --------------- ------------------------ 3.7/9.6 MB 415.4 kB/s eta 0:00:15\n",
      "   ---------------- ----------------------- 3.9/9.6 MB 411.3 kB/s eta 0:00:14\n",
      "   ---------------- ----------------------- 3.9/9.6 MB 411.3 kB/s eta 0:00:14\n",
      "   ----------------- ---------------------- 4.2/9.6 MB 427.3 kB/s eta 0:00:13\n",
      "   ------------------ --------------------- 4.5/9.6 MB 441.5 kB/s eta 0:00:12\n",
      "   ------------------ --------------------- 4.5/9.6 MB 441.5 kB/s eta 0:00:12\n",
      "   ------------------- -------------------- 4.7/9.6 MB 447.0 kB/s eta 0:00:12\n",
      "   ------------------- -------------------- 4.7/9.6 MB 447.0 kB/s eta 0:00:12\n",
      "   ------------------- -------------------- 4.7/9.6 MB 447.0 kB/s eta 0:00:12\n",
      "   -------------------- ------------------- 5.0/9.6 MB 450.0 kB/s eta 0:00:11\n",
      "   --------------------- ------------------ 5.2/9.6 MB 467.4 kB/s eta 0:00:10\n",
      "   --------------------- ------------------ 5.2/9.6 MB 467.4 kB/s eta 0:00:10\n",
      "   ---------------------- ----------------- 5.5/9.6 MB 470.0 kB/s eta 0:00:09\n",
      "   ---------------------- ----------------- 5.5/9.6 MB 470.0 kB/s eta 0:00:09\n",
      "   ----------------------- ---------------- 5.8/9.6 MB 478.0 kB/s eta 0:00:09\n",
      "   ----------------------- ---------------- 5.8/9.6 MB 478.0 kB/s eta 0:00:09\n",
      "   -------------------------- ------------- 6.3/9.6 MB 497.3 kB/s eta 0:00:07\n",
      "   --------------------------- ------------ 6.6/9.6 MB 511.0 kB/s eta 0:00:07\n",
      "   --------------------------- ------------ 6.6/9.6 MB 511.0 kB/s eta 0:00:07\n",
      "   --------------------------- ------------ 6.6/9.6 MB 511.0 kB/s eta 0:00:07\n",
      "   ---------------------------- ----------- 6.8/9.6 MB 512.1 kB/s eta 0:00:06\n",
      "   ---------------------------- ----------- 6.8/9.6 MB 512.1 kB/s eta 0:00:06\n",
      "   ---------------------------- ----------- 6.8/9.6 MB 512.1 kB/s eta 0:00:06\n",
      "   ---------------------------- ----------- 6.8/9.6 MB 512.1 kB/s eta 0:00:06\n",
      "   ---------------------------- ----------- 6.8/9.6 MB 512.1 kB/s eta 0:00:06\n",
      "   ---------------------------- ----------- 6.8/9.6 MB 512.1 kB/s eta 0:00:06\n",
      "   --------------------------------- ------ 8.1/9.6 MB 552.5 kB/s eta 0:00:03\n",
      "   ---------------------------------- ----- 8.4/9.6 MB 566.5 kB/s eta 0:00:03\n",
      "   ---------------------------------- ----- 8.4/9.6 MB 566.5 kB/s eta 0:00:03\n",
      "   ---------------------------------- ----- 8.4/9.6 MB 566.5 kB/s eta 0:00:03\n",
      "   ----------------------------------- ---- 8.7/9.6 MB 559.2 kB/s eta 0:00:02\n",
      "   ----------------------------------- ---- 8.7/9.6 MB 559.2 kB/s eta 0:00:02\n",
      "   ----------------------------------- ---- 8.7/9.6 MB 559.2 kB/s eta 0:00:02\n",
      "   ----------------------------------- ---- 8.7/9.6 MB 559.2 kB/s eta 0:00:02\n",
      "   ----------------------------------- ---- 8.7/9.6 MB 559.2 kB/s eta 0:00:02\n",
      "   ---------------------------------------- 9.6/9.6 MB 583.0 kB/s eta 0:00:00\n",
      "Downloading patsy-1.0.1-py2.py3-none-any.whl (232 kB)\n",
      "Installing collected packages: patsy, statsmodels\n",
      "\n",
      "   ---------------------------------------- 0/2 [patsy]\n",
      "   -------------------- ------------------- 1/2 [statsmodels]\n",
      "   -------------------- ------------------- 1/2 [statsmodels]\n",
      "   -------------------- ------------------- 1/2 [statsmodels]\n",
      "   -------------------- ------------------- 1/2 [statsmodels]\n",
      "   -------------------- ------------------- 1/2 [statsmodels]\n",
      "   -------------------- ------------------- 1/2 [statsmodels]\n",
      "   -------------------- ------------------- 1/2 [statsmodels]\n",
      "   -------------------- ------------------- 1/2 [statsmodels]\n",
      "   -------------------- ------------------- 1/2 [statsmodels]\n",
      "   -------------------- ------------------- 1/2 [statsmodels]\n",
      "   -------------------- ------------------- 1/2 [statsmodels]\n",
      "   -------------------- ------------------- 1/2 [statsmodels]\n",
      "   -------------------- ------------------- 1/2 [statsmodels]\n",
      "   -------------------- ------------------- 1/2 [statsmodels]\n",
      "   -------------------- ------------------- 1/2 [statsmodels]\n",
      "   -------------------- ------------------- 1/2 [statsmodels]\n",
      "   -------------------- ------------------- 1/2 [statsmodels]\n",
      "   -------------------- ------------------- 1/2 [statsmodels]\n",
      "   -------------------- ------------------- 1/2 [statsmodels]\n",
      "   -------------------- ------------------- 1/2 [statsmodels]\n",
      "   -------------------- ------------------- 1/2 [statsmodels]\n",
      "   -------------------- ------------------- 1/2 [statsmodels]\n",
      "   -------------------- ------------------- 1/2 [statsmodels]\n",
      "   -------------------- ------------------- 1/2 [statsmodels]\n",
      "   -------------------- ------------------- 1/2 [statsmodels]\n",
      "   -------------------- ------------------- 1/2 [statsmodels]\n",
      "   -------------------- ------------------- 1/2 [statsmodels]\n",
      "   -------------------- ------------------- 1/2 [statsmodels]\n",
      "   -------------------- ------------------- 1/2 [statsmodels]\n",
      "   -------------------- ------------------- 1/2 [statsmodels]\n",
      "   -------------------- ------------------- 1/2 [statsmodels]\n",
      "   -------------------- ------------------- 1/2 [statsmodels]\n",
      "   -------------------- ------------------- 1/2 [statsmodels]\n",
      "   -------------------- ------------------- 1/2 [statsmodels]\n",
      "   -------------------- ------------------- 1/2 [statsmodels]\n",
      "   -------------------- ------------------- 1/2 [statsmodels]\n",
      "   -------------------- ------------------- 1/2 [statsmodels]\n",
      "   -------------------- ------------------- 1/2 [statsmodels]\n",
      "   -------------------- ------------------- 1/2 [statsmodels]\n",
      "   -------------------- ------------------- 1/2 [statsmodels]\n",
      "   -------------------- ------------------- 1/2 [statsmodels]\n",
      "   -------------------- ------------------- 1/2 [statsmodels]\n",
      "   -------------------- ------------------- 1/2 [statsmodels]\n",
      "   -------------------- ------------------- 1/2 [statsmodels]\n",
      "   -------------------- ------------------- 1/2 [statsmodels]\n",
      "   -------------------- ------------------- 1/2 [statsmodels]\n",
      "   -------------------- ------------------- 1/2 [statsmodels]\n",
      "   -------------------- ------------------- 1/2 [statsmodels]\n",
      "   -------------------- ------------------- 1/2 [statsmodels]\n",
      "   -------------------- ------------------- 1/2 [statsmodels]\n",
      "   -------------------- ------------------- 1/2 [statsmodels]\n",
      "   -------------------- ------------------- 1/2 [statsmodels]\n",
      "   -------------------- ------------------- 1/2 [statsmodels]\n",
      "   -------------------- ------------------- 1/2 [statsmodels]\n",
      "   ---------------------------------------- 2/2 [statsmodels]\n",
      "\n",
      "Successfully installed patsy-1.0.1 statsmodels-0.14.5\n"
     ]
    }
   ],
   "source": [
    "!pip install statsmodels"
   ]
  },
  {
   "cell_type": "code",
   "execution_count": 4,
   "metadata": {},
   "outputs": [
    {
     "name": "stdout",
     "output_type": "stream",
     "text": [
      "               sum_sq    df          F        PR(>F)\n",
      "C(supp)    205.350000   1.0  14.016638  4.292793e-04\n",
      "C(dose)   2426.434333   2.0  82.810935  1.871163e-17\n",
      "Residual   820.425000  56.0        NaN           NaN\n"
     ]
    }
   ],
   "source": [
    "# Your code here\n",
    "import statsmodels.api as sm\n",
    "from statsmodels.formula.api import ols\n",
    "\n",
    "formula = 'len ~ C(supp) + C(dose)'\n",
    "lm = ols(formula, df).fit()\n",
    "table = sm.stats.anova_lm(lm, typ=2)\n",
    "print(table)"
   ]
  },
  {
   "cell_type": "markdown",
   "metadata": {},
   "source": [
    "## Interpret the output\n",
    "\n",
    "Make a brief comment regarding the statistics and the effect of supplement and dosage on tooth length: "
   ]
  },
  {
   "cell_type": "code",
   "execution_count": 6,
   "metadata": {},
   "outputs": [],
   "source": [
    "# Your comment here\n",
    "#Both dose and supplement type are impactful. At first glance, dosage seems to be the more impactful of the two."
   ]
  },
  {
   "cell_type": "markdown",
   "metadata": {},
   "source": [
    "## Compare to t-tests\n",
    "\n",
    "Now that you've had a chance to generate an ANOVA table, its interesting to compare the results to those from the t-tests you were working with earlier. With that, start by breaking the data into two samples: those given the OJ supplement, and those given the VC supplement. Afterward, you'll conduct a t-test to compare the tooth length of these two different samples: "
   ]
  },
  {
   "cell_type": "code",
   "execution_count": 8,
   "metadata": {},
   "outputs": [],
   "source": [
    "# Your code here\n",
    "oj_lengths = df[df.supp=='OJ']['len']\n",
    "vc_lengths = df[df.supp=='VC']['len']\n"
   ]
  },
  {
   "cell_type": "markdown",
   "metadata": {},
   "source": [
    "Now run a t-test between these two groups and print the associated two-sided p-value: "
   ]
  },
  {
   "cell_type": "code",
   "execution_count": 9,
   "metadata": {},
   "outputs": [
    {
     "data": {
      "text/plain": [
       "np.float64(0.06063450788093387)"
      ]
     },
     "execution_count": 9,
     "metadata": {},
     "output_type": "execute_result"
    }
   ],
   "source": [
    "# Calculate the 2-sided p-value for a t-test comparing the two supplement groups\n",
    "from scipy import stats\n",
    "\n",
    "stats.ttest_ind(oj_lengths, vc_lengths, equal_var=False)[1]"
   ]
  },
  {
   "cell_type": "markdown",
   "metadata": {},
   "source": [
    "## A 2-Category ANOVA F-test is equivalent to a 2-tailed t-test!\n",
    "\n",
    "Now, recalculate an ANOVA F-test with only the supplement variable. An ANOVA F-test between two categories is the same as performing a 2-tailed t-test! So, the p-value in the table should be identical to your calculation above.\n",
    "\n",
    "> Note: there may be a small fractional difference (>0.001) between the two values due to a rounding error between implementations. "
   ]
  },
  {
   "cell_type": "code",
   "execution_count": 10,
   "metadata": {},
   "outputs": [
    {
     "name": "stdout",
     "output_type": "stream",
     "text": [
      "               sum_sq    df         F    PR(>F)\n",
      "C(supp)    205.350000   1.0  3.668253  0.060393\n",
      "Residual  3246.859333  58.0       NaN       NaN\n"
     ]
    }
   ],
   "source": [
    "# Your code here; conduct an ANOVA F-test of the oj and vc supplement groups.\n",
    "# Compare the p-value to that of the t-test above. \n",
    "# They should match (there may be a tiny fractional difference due to rounding errors in varying implementations)\n",
    "formula = 'len ~ C(supp)'\n",
    "lm = ols(formula, df).fit()\n",
    "table = sm.stats.anova_lm(lm, typ=2)\n",
    "print(table)"
   ]
  },
  {
   "cell_type": "markdown",
   "metadata": {},
   "source": [
    "## Run multiple t-tests\n",
    "\n",
    "While the 2-category ANOVA test is identical to a 2-tailed t-test, performing multiple t-tests leads to the multiple comparisons problem. To investigate this, look at the various sample groups you could create from the 2 features: "
   ]
  },
  {
   "cell_type": "code",
   "execution_count": 11,
   "metadata": {},
   "outputs": [
    {
     "name": "stdout",
     "output_type": "stream",
     "text": [
      "('OJ', np.float64(0.5))\n",
      "('OJ', np.float64(1.0))\n",
      "('OJ', np.float64(2.0))\n",
      "('VC', np.float64(0.5))\n",
      "('VC', np.float64(1.0))\n",
      "('VC', np.float64(2.0))\n"
     ]
    }
   ],
   "source": [
    "for group in df.groupby(['supp', 'dose'])['len']:\n",
    "    group_name = group[0]\n",
    "    data = group[1]\n",
    "    print(group_name)"
   ]
  },
  {
   "cell_type": "markdown",
   "metadata": {},
   "source": [
    "While bad practice, examine the effects of calculating multiple t-tests with the various combinations of these. To do this, generate all combinations of the above groups. For each pairwise combination, calculate the p-value of a 2-sided t-test. Print the group combinations and their associated p-value for the two-sided t-test."
   ]
  },
  {
   "cell_type": "code",
   "execution_count": 12,
   "metadata": {},
   "outputs": [
    {
     "name": "stdout",
     "output_type": "stream",
     "text": [
      "(('OJ', np.float64(0.5)), ('OJ', np.float64(1.0))) 8.784919055161497e-05\n",
      "(('OJ', np.float64(0.5)), ('OJ', np.float64(2.0))) 1.3237838776972294e-06\n",
      "(('OJ', np.float64(0.5)), ('VC', np.float64(0.5))) 0.006358606764096811\n",
      "(('OJ', np.float64(0.5)), ('VC', np.float64(1.0))) 0.046010332576375525\n",
      "(('OJ', np.float64(0.5)), ('VC', np.float64(2.0))) 7.196253524006046e-06\n",
      "(('OJ', np.float64(1.0)), ('OJ', np.float64(2.0))) 0.03919514204624403\n",
      "(('OJ', np.float64(1.0)), ('VC', np.float64(0.5))) 3.6552067303259103e-08\n",
      "(('OJ', np.float64(1.0)), ('VC', np.float64(1.0))) 0.0010383758722998827\n",
      "(('OJ', np.float64(1.0)), ('VC', np.float64(2.0))) 0.09652612338267014\n",
      "(('OJ', np.float64(2.0)), ('VC', np.float64(0.5))) 1.3621396478988815e-11\n",
      "(('OJ', np.float64(2.0)), ('VC', np.float64(1.0))) 2.3610742020468437e-07\n",
      "(('OJ', np.float64(2.0)), ('VC', np.float64(2.0))) 0.9638515887233757\n",
      "(('VC', np.float64(0.5)), ('VC', np.float64(1.0))) 6.811017702865016e-07\n",
      "(('VC', np.float64(0.5)), ('VC', np.float64(2.0))) 4.681577414492128e-08\n",
      "(('VC', np.float64(1.0)), ('VC', np.float64(2.0))) 9.155603056638706e-05\n"
     ]
    }
   ],
   "source": [
    "# Your code here; reuse your t-test code above to calculate the p-value for a 2-sided t-test\n",
    "# for all combinations of the supplement-dose groups listed above. \n",
    "# (Since there isn't a control group, compare each group to every other group.)\n",
    "\n",
    "from itertools import combinations\n",
    "\n",
    "groups = [group[0] for group in df.groupby(['supp', 'dose'])['len']]\n",
    "combos = combinations(groups, 2)\n",
    "for combo in combos:\n",
    "    supp1 = combo[0][0]\n",
    "    dose1 = combo[0][1]\n",
    "    supp2 = combo[1][0]\n",
    "    dose2 = combo[1][1]\n",
    "    sample1 = df[(df.supp == supp1) & (df.dose == dose1)]['len']\n",
    "    sample2 = df[(df.supp == supp2) & (df.dose == dose2)]['len']\n",
    "    p = stats.ttest_ind(sample1, sample2, equal_var=False)[1]\n",
    "    print(combo, p)\n",
    "\n",
    "    # Note that while ANOVA also concluded that all factors were significant, \n",
    "    # these p-values are substantially lower."
   ]
  },
  {
   "cell_type": "markdown",
   "metadata": {},
   "source": [
    "## Summary\n",
    "\n",
    "In this lesson, you implemented the ANOVA technique to generalize testing methods to multiple groups and factors."
   ]
  }
 ],
 "metadata": {
  "kernelspec": {
   "display_name": "learn-env",
   "language": "python",
   "name": "python3"
  },
  "language_info": {
   "codemirror_mode": {
    "name": "ipython",
    "version": 3
   },
   "file_extension": ".py",
   "mimetype": "text/x-python",
   "name": "python",
   "nbconvert_exporter": "python",
   "pygments_lexer": "ipython3",
   "version": "3.10.18"
  }
 },
 "nbformat": 4,
 "nbformat_minor": 2
}
